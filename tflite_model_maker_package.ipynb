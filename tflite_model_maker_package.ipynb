{
  "nbformat": 4,
  "nbformat_minor": 0,
  "metadata": {
    "colab": {
      "name": "tflite_model_maker_package.ipynb",
      "provenance": [],
      "collapsed_sections": [],
      "authorship_tag": "ABX9TyMtglRyA/piRMbno6Rn0X0P",
      "include_colab_link": true
    },
    "kernelspec": {
      "name": "python3",
      "display_name": "Python 3"
    },
    "language_info": {
      "name": "python"
    }
  },
  "cells": [
    {
      "cell_type": "markdown",
      "metadata": {
        "id": "view-in-github",
        "colab_type": "text"
      },
      "source": [
        "<a href=\"https://colab.research.google.com/github/kjso3887/TinyML/blob/master/tflite_model_maker_package.ipynb\" target=\"_parent\"><img src=\"https://colab.research.google.com/assets/colab-badge.svg\" alt=\"Open In Colab\"/></a>"
      ]
    },
    {
      "cell_type": "markdown",
      "metadata": {
        "id": "YSllLrXDUcwW"
      },
      "source": [
        "# tflite_model_maker 전이학습을 위해 갖고있는 데이터셋 업로드하기"
      ]
    },
    {
      "cell_type": "code",
      "metadata": {
        "colab": {
          "base_uri": "https://localhost:8080/"
        },
        "id": "LosWsExHDAvP",
        "outputId": "3cf4fcb1-5f10-4f91-e86c-2bd58d8e53ab"
      },
      "source": [
        "pip install -q tflite-model-maker"
      ],
      "execution_count": 1,
      "outputs": [
        {
          "output_type": "stream",
          "text": [
            "\u001b[K     |████████████████████████████████| 591 kB 5.2 MB/s \n",
            "\u001b[K     |████████████████████████████████| 1.1 MB 33.8 MB/s \n",
            "\u001b[K     |████████████████████████████████| 64 kB 1.9 MB/s \n",
            "\u001b[K     |████████████████████████████████| 1.1 MB 32.6 MB/s \n",
            "\u001b[K     |████████████████████████████████| 211 kB 33.8 MB/s \n",
            "\u001b[K     |████████████████████████████████| 87 kB 4.4 MB/s \n",
            "\u001b[K     |████████████████████████████████| 103 kB 52.4 MB/s \n",
            "\u001b[K     |████████████████████████████████| 636 kB 49.8 MB/s \n",
            "\u001b[K     |████████████████████████████████| 1.2 MB 30.1 MB/s \n",
            "\u001b[K     |████████████████████████████████| 6.3 MB 28.7 MB/s \n",
            "\u001b[K     |████████████████████████████████| 840 kB 48.5 MB/s \n",
            "\u001b[K     |████████████████████████████████| 120 kB 48.9 MB/s \n",
            "\u001b[K     |████████████████████████████████| 99 kB 9.3 MB/s \n",
            "\u001b[K     |████████████████████████████████| 352 kB 45.5 MB/s \n",
            "\u001b[K     |████████████████████████████████| 37.1 MB 48 kB/s \n",
            "\u001b[K     |████████████████████████████████| 200 kB 61.3 MB/s \n",
            "\u001b[?25h  Building wheel for fire (setup.py) ... \u001b[?25l\u001b[?25hdone\n",
            "  Building wheel for py-cpuinfo (setup.py) ... \u001b[?25l\u001b[?25hdone\n"
          ],
          "name": "stdout"
        }
      ]
    },
    {
      "cell_type": "code",
      "metadata": {
        "id": "1GCVqkl8DYGj"
      },
      "source": [
        "import os\n",
        "\n",
        "import numpy as np\n",
        "\n",
        "import tensorflow as tf\n",
        "assert tf.__version__.startswith('2')\n",
        "\n",
        "from tflite_model_maker import model_spec\n",
        "from tflite_model_maker import image_classifier\n",
        "from tflite_model_maker.config import ExportFormat\n",
        "from tflite_model_maker.config import QuantizationConfig\n",
        "from tflite_model_maker.image_classifier import DataLoader\n",
        "from tflite_model_maker import ImageClassifierDataLoader\n",
        "\n",
        "import matplotlib.pyplot as plt\n",
        "from PIL import Image as im"
      ],
      "execution_count": 29,
      "outputs": []
    },
    {
      "cell_type": "markdown",
      "metadata": {
        "id": "pznOpDCkUzTN"
      },
      "source": [
        "- 구글 드라이브 마운트를 통해 데이터셋을 가져옴"
      ]
    },
    {
      "cell_type": "code",
      "metadata": {
        "colab": {
          "base_uri": "https://localhost:8080/"
        },
        "id": "A_bbzQ_3DneI",
        "outputId": "ce767849-dd33-4ea1-e306-93b64bb66d30"
      },
      "source": [
        "from google.colab import drive\n",
        "drive.mount('/content/drive')"
      ],
      "execution_count": 30,
      "outputs": [
        {
          "output_type": "stream",
          "text": [
            "Drive already mounted at /content/drive; to attempt to forcibly remount, call drive.mount(\"/content/drive\", force_remount=True).\n"
          ],
          "name": "stdout"
        }
      ]
    },
    {
      "cell_type": "code",
      "metadata": {
        "id": "mLl4Sd-pQtFx"
      },
      "source": [
        "!mkdir dataset"
      ],
      "execution_count": 33,
      "outputs": []
    },
    {
      "cell_type": "markdown",
      "metadata": {
        "id": "mJbIURqTU-LI"
      },
      "source": [
        "- 데이터셋이 존재하는 package1 폴더를 데이터셋을 새로 생성한 dataset 폴더에 복사"
      ]
    },
    {
      "cell_type": "code",
      "metadata": {
        "id": "G2otVBHERFxm"
      },
      "source": [
        "!cp -r /content/drive/MyDrive/package1 dataset/"
      ],
      "execution_count": 43,
      "outputs": []
    },
    {
      "cell_type": "markdown",
      "metadata": {
        "id": "tQSyIw_sVUlf"
      },
      "source": [
        "- 이 부분에서 image_path를 dataset 폴더 까지만 지정했어야 했는데, /dataset/package1 까지 지정해서 image size zero 오류가 계속 발생함. image_path를 출력해서 경로가 잘 설정되었는지 확인."
      ]
    },
    {
      "cell_type": "code",
      "metadata": {
        "colab": {
          "base_uri": "https://localhost:8080/"
        },
        "id": "lE_CIDTfD6Af",
        "outputId": "a9109469-1061-404c-f0c5-aa6aa956e2ec"
      },
      "source": [
        "root_path = \"/content/\"    \n",
        "image_path = os.path.join(os.path.dirname(root_path), 'dataset')\n",
        "print(image_path)"
      ],
      "execution_count": 50,
      "outputs": [
        {
          "output_type": "stream",
          "text": [
            "/content/dataset\n"
          ],
          "name": "stdout"
        }
      ]
    },
    {
      "cell_type": "code",
      "metadata": {
        "colab": {
          "base_uri": "https://localhost:8080/"
        },
        "id": "bGx_gRRbOle8",
        "outputId": "ec6a873e-afc5-4107-ac35-1ae18ce769b8"
      },
      "source": [
        "rmdir /content/dataset/package1/.ipynb_checkpoints"
      ],
      "execution_count": 46,
      "outputs": [
        {
          "output_type": "stream",
          "text": [
            "rmdir: failed to remove '/content/dataset/package1/.ipynb_checkpoints': No such file or directory\n"
          ],
          "name": "stdout"
        }
      ]
    },
    {
      "cell_type": "markdown",
      "metadata": {
        "id": "rNwcjc3eWAEb"
      },
      "source": [
        "DataLoader.from_folder() 메서드를 이용해서 데이터셋을 가져온 후 train,test_data를 9대1 비율로 나누어줌."
      ]
    },
    {
      "cell_type": "code",
      "metadata": {
        "colab": {
          "base_uri": "https://localhost:8080/"
        },
        "id": "L3wm9BH2M_So",
        "outputId": "46ca67af-f30f-49b2-c341-fd0285c4fd65"
      },
      "source": [
        "data = DataLoader.from_folder(image_path)\n",
        "train_data, test_data = data.split(0.9)"
      ],
      "execution_count": 51,
      "outputs": [
        {
          "output_type": "stream",
          "text": [
            "INFO:tensorflow:Load image with size: 236, num_label: 1, labels: package1.\n"
          ],
          "name": "stdout"
        }
      ]
    }
  ]
}